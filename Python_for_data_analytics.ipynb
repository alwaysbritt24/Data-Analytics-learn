{
  "nbformat": 4,
  "nbformat_minor": 0,
  "metadata": {
    "colab": {
      "provenance": [],
      "authorship_tag": "ABX9TyNuwmlOxpeAUWPQYpwYJ1Cy",
      "include_colab_link": true
    },
    "kernelspec": {
      "name": "python3",
      "display_name": "Python 3"
    },
    "language_info": {
      "name": "python"
    }
  },
  "cells": [
    {
      "cell_type": "markdown",
      "metadata": {
        "id": "view-in-github",
        "colab_type": "text"
      },
      "source": [
        "<a href=\"https://colab.research.google.com/github/alwaysbritt24/Data-Analytics-learn/blob/main/Python_for_data_analytics.ipynb\" target=\"_parent\"><img src=\"https://colab.research.google.com/assets/colab-badge.svg\" alt=\"Open In Colab\"/></a>"
      ]
    },
    {
      "cell_type": "code",
      "source": [
        "#strings"
      ],
      "metadata": {
        "id": "WYU7Nxzgd-AJ"
      },
      "execution_count": 252,
      "outputs": []
    },
    {
      "cell_type": "code",
      "source": [
        "name = 'Python'"
      ],
      "metadata": {
        "id": "R-wnDsRbd95r"
      },
      "execution_count": 253,
      "outputs": []
    },
    {
      "cell_type": "code",
      "source": [
        "name.upper()"
      ],
      "metadata": {
        "colab": {
          "base_uri": "https://localhost:8080/",
          "height": 36
        },
        "id": "LXoZ19wcd9zT",
        "outputId": "b672339f-d43d-43d9-ac8d-4bca4599d971"
      },
      "execution_count": 254,
      "outputs": [
        {
          "output_type": "execute_result",
          "data": {
            "text/plain": [
              "'PYTHON'"
            ],
            "application/vnd.google.colaboratory.intrinsic+json": {
              "type": "string"
            }
          },
          "metadata": {},
          "execution_count": 254
        }
      ]
    },
    {
      "cell_type": "code",
      "source": [
        "name.lower()"
      ],
      "metadata": {
        "colab": {
          "base_uri": "https://localhost:8080/",
          "height": 36
        },
        "id": "BV7lkqE9d9vr",
        "outputId": "244273e4-9bb9-49db-88f3-d58987124670"
      },
      "execution_count": 255,
      "outputs": [
        {
          "output_type": "execute_result",
          "data": {
            "text/plain": [
              "'python'"
            ],
            "application/vnd.google.colaboratory.intrinsic+json": {
              "type": "string"
            }
          },
          "metadata": {},
          "execution_count": 255
        }
      ]
    },
    {
      "cell_type": "code",
      "source": [
        "name.replace(\"o\",\"e\")"
      ],
      "metadata": {
        "colab": {
          "base_uri": "https://localhost:8080/",
          "height": 36
        },
        "id": "JxpX9opZd9sM",
        "outputId": "b58e4163-c967-4ee7-c687-b3f0e4a90715"
      },
      "execution_count": 256,
      "outputs": [
        {
          "output_type": "execute_result",
          "data": {
            "text/plain": [
              "'Pythen'"
            ],
            "application/vnd.google.colaboratory.intrinsic+json": {
              "type": "string"
            }
          },
          "metadata": {},
          "execution_count": 256
        }
      ]
    },
    {
      "cell_type": "code",
      "source": [
        "job_title = 'Data Analyst'"
      ],
      "metadata": {
        "id": "d3t4XUwwd9ne"
      },
      "execution_count": 257,
      "outputs": []
    },
    {
      "cell_type": "code",
      "source": [
        "job_title.replace('a', 'o', 2)"
      ],
      "metadata": {
        "colab": {
          "base_uri": "https://localhost:8080/",
          "height": 36
        },
        "id": "n6xXKQ1gd9iw",
        "outputId": "583cc107-925a-4655-a11f-c09b070ae7f1"
      },
      "execution_count": 258,
      "outputs": [
        {
          "output_type": "execute_result",
          "data": {
            "text/plain": [
              "'Doto Analyst'"
            ],
            "application/vnd.google.colaboratory.intrinsic+json": {
              "type": "string"
            }
          },
          "metadata": {},
          "execution_count": 258
        }
      ]
    },
    {
      "cell_type": "code",
      "source": [
        "job_title.split(sep=\" \",maxsplit=1)"
      ],
      "metadata": {
        "colab": {
          "base_uri": "https://localhost:8080/"
        },
        "id": "Vcd_Aeikd9eQ",
        "outputId": "fdfa4459-3977-42b0-ef7f-2502ab16fe15"
      },
      "execution_count": 259,
      "outputs": [
        {
          "output_type": "execute_result",
          "data": {
            "text/plain": [
              "['Data', 'Analyst']"
            ]
          },
          "metadata": {},
          "execution_count": 259
        }
      ]
    },
    {
      "cell_type": "code",
      "source": [
        "str.__add__('Data', ' Analyst')"
      ],
      "metadata": {
        "colab": {
          "base_uri": "https://localhost:8080/",
          "height": 36
        },
        "id": "NbRmGjn4d9Zf",
        "outputId": "0756122a-57eb-4ad8-f04d-1f3b2c50a004"
      },
      "execution_count": 260,
      "outputs": [
        {
          "output_type": "execute_result",
          "data": {
            "text/plain": [
              "'Data Analyst'"
            ],
            "application/vnd.google.colaboratory.intrinsic+json": {
              "type": "string"
            }
          },
          "metadata": {},
          "execution_count": 260
        }
      ]
    },
    {
      "cell_type": "code",
      "source": [
        "role = 'Data Analyst'\n",
        "skill = 'Python'"
      ],
      "metadata": {
        "id": "k90qagIpd9U6"
      },
      "execution_count": 261,
      "outputs": []
    },
    {
      "cell_type": "code",
      "source": [
        "'Role:' + role"
      ],
      "metadata": {
        "colab": {
          "base_uri": "https://localhost:8080/",
          "height": 36
        },
        "id": "50CQajE7d9IO",
        "outputId": "00e5b776-d8fc-4f82-9f75-22fb44f863e9"
      },
      "execution_count": 262,
      "outputs": [
        {
          "output_type": "execute_result",
          "data": {
            "text/plain": [
              "'Role:Data Analyst'"
            ],
            "application/vnd.google.colaboratory.intrinsic+json": {
              "type": "string"
            }
          },
          "metadata": {},
          "execution_count": 262
        }
      ]
    },
    {
      "cell_type": "code",
      "source": [
        "'Role: {}'.format(role)"
      ],
      "metadata": {
        "colab": {
          "base_uri": "https://localhost:8080/",
          "height": 36
        },
        "id": "1srRq2_cd818",
        "outputId": "de89eb16-9ca1-445d-ca44-b1b6980ecf9b"
      },
      "execution_count": 263,
      "outputs": [
        {
          "output_type": "execute_result",
          "data": {
            "text/plain": [
              "'Role: Data Analyst'"
            ],
            "application/vnd.google.colaboratory.intrinsic+json": {
              "type": "string"
            }
          },
          "metadata": {},
          "execution_count": 263
        }
      ]
    },
    {
      "cell_type": "code",
      "source": [
        "'Role: {}; Skill: {}'.format(role, skill)"
      ],
      "metadata": {
        "colab": {
          "base_uri": "https://localhost:8080/",
          "height": 36
        },
        "id": "L0O8OWryk3jL",
        "outputId": "cc06979a-d298-4563-c5bb-233f9469047f"
      },
      "execution_count": 264,
      "outputs": [
        {
          "output_type": "execute_result",
          "data": {
            "text/plain": [
              "'Role: Data Analyst; Skill: Python'"
            ],
            "application/vnd.google.colaboratory.intrinsic+json": {
              "type": "string"
            }
          },
          "metadata": {},
          "execution_count": 264
        }
      ]
    },
    {
      "cell_type": "code",
      "source": [
        "print(f'{role}, {skill}')"
      ],
      "metadata": {
        "colab": {
          "base_uri": "https://localhost:8080/"
        },
        "id": "jZz-7T90k3gK",
        "outputId": "9ea9e407-c9ae-490f-f4db-48ad751b859d"
      },
      "execution_count": 265,
      "outputs": [
        {
          "output_type": "stream",
          "name": "stdout",
          "text": [
            "Data Analyst, Python\n"
          ]
        }
      ]
    },
    {
      "cell_type": "code",
      "source": [
        "#join method"
      ],
      "metadata": {
        "id": "-9INsU2Ik3c1"
      },
      "execution_count": 266,
      "outputs": []
    },
    {
      "cell_type": "code",
      "source": [
        "years_experience = '0123456789'"
      ],
      "metadata": {
        "id": "wXP6CNEuk3ZU"
      },
      "execution_count": 267,
      "outputs": []
    },
    {
      "cell_type": "code",
      "source": [
        "', '.join(years_experience)"
      ],
      "metadata": {
        "colab": {
          "base_uri": "https://localhost:8080/",
          "height": 36
        },
        "id": "Oi93v_Mrk3V_",
        "outputId": "bec500b6-a83e-49d6-f830-146d3275435b"
      },
      "execution_count": 268,
      "outputs": [
        {
          "output_type": "execute_result",
          "data": {
            "text/plain": [
              "'0, 1, 2, 3, 4, 5, 6, 7, 8, 9'"
            ],
            "application/vnd.google.colaboratory.intrinsic+json": {
              "type": "string"
            }
          },
          "metadata": {},
          "execution_count": 268
        }
      ]
    },
    {
      "cell_type": "markdown",
      "source": [
        "# conditional statements"
      ],
      "metadata": {
        "id": "AQV_CCzL0zVR"
      }
    },
    {
      "cell_type": "code",
      "source": [
        "#if, elif, else"
      ],
      "metadata": {
        "id": "z_vciQ-qk3S3"
      },
      "execution_count": 269,
      "outputs": []
    },
    {
      "cell_type": "code",
      "source": [
        "if True:\n",
        "  print('Whats up data nerd')"
      ],
      "metadata": {
        "colab": {
          "base_uri": "https://localhost:8080/"
        },
        "id": "vNd-eDrVk3PA",
        "outputId": "9979519c-eae3-4523-eb7b-0e201b5ddf95"
      },
      "execution_count": 270,
      "outputs": [
        {
          "output_type": "stream",
          "name": "stdout",
          "text": [
            "Whats up data nerd\n"
          ]
        }
      ]
    },
    {
      "cell_type": "code",
      "source": [
        "#skill require for job\n",
        "job_skill = 'SQL'\n",
        "\n",
        "#applicant skill\n",
        "applicant_skill = 'C++'"
      ],
      "metadata": {
        "id": "riGoQ5wOk3KM"
      },
      "execution_count": 271,
      "outputs": []
    },
    {
      "cell_type": "code",
      "source": [
        "if job_skill == applicant_skill:\n",
        "  print('Skills match')"
      ],
      "metadata": {
        "id": "D4bTQ7Jnk3CV"
      },
      "execution_count": 272,
      "outputs": []
    },
    {
      "cell_type": "code",
      "source": [
        "yearsOf_experience = 4\n",
        "\n",
        "if job_skill == applicant_skill:\n",
        "  print(\"Skills match\")\n",
        "elif yearsOf_experience >= 5:\n",
        "  print('Good experience, No SQL')\n",
        "else:\n",
        "  print('No skill or experience')"
      ],
      "metadata": {
        "colab": {
          "base_uri": "https://localhost:8080/"
        },
        "id": "ZqmbyCo2k26j",
        "outputId": "90d5ac15-356c-429e-e856-939a1c6901fc"
      },
      "execution_count": 273,
      "outputs": [
        {
          "output_type": "stream",
          "name": "stdout",
          "text": [
            "No skill or experience\n"
          ]
        }
      ]
    },
    {
      "cell_type": "markdown",
      "source": [
        "# List"
      ],
      "metadata": {
        "id": "R9zTRGYDM1Gm"
      }
    },
    {
      "cell_type": "markdown",
      "source": [
        "List are mutable meaning you can chnage the elements in a list once its made.\n",
        "collection of ordered items"
      ],
      "metadata": {
        "id": "dsB6v7E9NlMK"
      }
    },
    {
      "cell_type": "code",
      "source": [
        "my_list = [1, 'Python', [2,'sql']]\n",
        "\n",
        "my_list"
      ],
      "metadata": {
        "colab": {
          "base_uri": "https://localhost:8080/"
        },
        "id": "5AgS0vIZM6Jd",
        "outputId": "f2ef25fc-bf20-4e4d-9b3c-68faedd8f064"
      },
      "execution_count": 274,
      "outputs": [
        {
          "output_type": "execute_result",
          "data": {
            "text/plain": [
              "[1, 'Python', [2, 'sql']]"
            ]
          },
          "metadata": {},
          "execution_count": 274
        }
      ]
    },
    {
      "cell_type": "code",
      "source": [
        "job_skills = ['sql', 'tableau', 'excel']"
      ],
      "metadata": {
        "id": "mUQqnMFHM6EQ"
      },
      "execution_count": 275,
      "outputs": []
    },
    {
      "cell_type": "code",
      "source": [
        "job_skills.append('python')\n",
        "\n",
        "job_skills"
      ],
      "metadata": {
        "colab": {
          "base_uri": "https://localhost:8080/"
        },
        "id": "hiFPsGJsM6Bp",
        "outputId": "7484ac20-11c7-417d-89b0-f3cee2d74697"
      },
      "execution_count": 276,
      "outputs": [
        {
          "output_type": "execute_result",
          "data": {
            "text/plain": [
              "['sql', 'tableau', 'excel', 'python']"
            ]
          },
          "metadata": {},
          "execution_count": 276
        }
      ]
    },
    {
      "cell_type": "code",
      "source": [
        "job_skills.remove('tableau')\n",
        "\n",
        "job_skills"
      ],
      "metadata": {
        "colab": {
          "base_uri": "https://localhost:8080/"
        },
        "id": "s_G06V3aM5-h",
        "outputId": "cbb4a898-6ce4-4e14-f12f-2bb16708f2bb"
      },
      "execution_count": 277,
      "outputs": [
        {
          "output_type": "execute_result",
          "data": {
            "text/plain": [
              "['sql', 'excel', 'python']"
            ]
          },
          "metadata": {},
          "execution_count": 277
        }
      ]
    },
    {
      "cell_type": "code",
      "source": [
        "len(job_skills)"
      ],
      "metadata": {
        "colab": {
          "base_uri": "https://localhost:8080/"
        },
        "id": "E1cGs9iuM57Z",
        "outputId": "c1ea6776-f570-4b03-ae74-0d8362c6fe9b"
      },
      "execution_count": 278,
      "outputs": [
        {
          "output_type": "execute_result",
          "data": {
            "text/plain": [
              "3"
            ]
          },
          "metadata": {},
          "execution_count": 278
        }
      ]
    },
    {
      "cell_type": "code",
      "source": [
        "job_skills[2]"
      ],
      "metadata": {
        "colab": {
          "base_uri": "https://localhost:8080/",
          "height": 36
        },
        "id": "nHc4cIVnM54T",
        "outputId": "1540439f-d829-4e0f-9b57-fc3eb521909d"
      },
      "execution_count": 279,
      "outputs": [
        {
          "output_type": "execute_result",
          "data": {
            "text/plain": [
              "'python'"
            ],
            "application/vnd.google.colaboratory.intrinsic+json": {
              "type": "string"
            }
          },
          "metadata": {},
          "execution_count": 279
        }
      ]
    },
    {
      "cell_type": "code",
      "source": [
        "job_skills.insert(1, 'tableau')"
      ],
      "metadata": {
        "id": "sR9AJ8EKM50X"
      },
      "execution_count": 280,
      "outputs": []
    },
    {
      "cell_type": "code",
      "source": [
        "job_skills"
      ],
      "metadata": {
        "colab": {
          "base_uri": "https://localhost:8080/"
        },
        "id": "IlCzG6FKM5xj",
        "outputId": "b7cac27c-7333-4d54-98f1-b748bfb92925"
      },
      "execution_count": 281,
      "outputs": [
        {
          "output_type": "execute_result",
          "data": {
            "text/plain": [
              "['sql', 'tableau', 'excel', 'python']"
            ]
          },
          "metadata": {},
          "execution_count": 281
        }
      ]
    },
    {
      "cell_type": "code",
      "source": [
        "job_skills.pop(3)"
      ],
      "metadata": {
        "colab": {
          "base_uri": "https://localhost:8080/",
          "height": 36
        },
        "id": "rn6qJTdDM5uY",
        "outputId": "da9e9a9d-3cd3-4340-cc27-65e2447d6056"
      },
      "execution_count": 282,
      "outputs": [
        {
          "output_type": "execute_result",
          "data": {
            "text/plain": [
              "'python'"
            ],
            "application/vnd.google.colaboratory.intrinsic+json": {
              "type": "string"
            }
          },
          "metadata": {},
          "execution_count": 282
        }
      ]
    },
    {
      "cell_type": "code",
      "source": [
        "#job_skills.pop(4)"
      ],
      "metadata": {
        "id": "1d1ZD2eiM5rB"
      },
      "execution_count": 283,
      "outputs": []
    },
    {
      "cell_type": "code",
      "source": [
        "job_skills"
      ],
      "metadata": {
        "colab": {
          "base_uri": "https://localhost:8080/"
        },
        "id": "ltjA-ebjM5oI",
        "outputId": "3da8e23b-48b5-4717-9e13-fa080e36c7f3"
      },
      "execution_count": 284,
      "outputs": [
        {
          "output_type": "execute_result",
          "data": {
            "text/plain": [
              "['sql', 'tableau', 'excel']"
            ]
          },
          "metadata": {},
          "execution_count": 284
        }
      ]
    },
    {
      "cell_type": "code",
      "source": [
        "job_skills[0:4]"
      ],
      "metadata": {
        "colab": {
          "base_uri": "https://localhost:8080/"
        },
        "id": "QkFnbT_iM5kf",
        "outputId": "4ce14ad5-52e2-4d6f-917b-169f015f8650"
      },
      "execution_count": 285,
      "outputs": [
        {
          "output_type": "execute_result",
          "data": {
            "text/plain": [
              "['sql', 'tableau', 'excel']"
            ]
          },
          "metadata": {},
          "execution_count": 285
        }
      ]
    },
    {
      "cell_type": "code",
      "source": [
        "job_skills[0:1]"
      ],
      "metadata": {
        "colab": {
          "base_uri": "https://localhost:8080/"
        },
        "id": "ur5Q-NBiM5A2",
        "outputId": "b6ca8d69-e8cc-4fac-a856-cce7cfaa8300"
      },
      "execution_count": 286,
      "outputs": [
        {
          "output_type": "execute_result",
          "data": {
            "text/plain": [
              "['sql']"
            ]
          },
          "metadata": {},
          "execution_count": 286
        }
      ]
    },
    {
      "cell_type": "code",
      "source": [
        "job_skills[::1]"
      ],
      "metadata": {
        "colab": {
          "base_uri": "https://localhost:8080/"
        },
        "id": "9Wo2F8IBRsyQ",
        "outputId": "38c4822b-ce7d-4950-e526-026fc4b61337"
      },
      "execution_count": 287,
      "outputs": [
        {
          "output_type": "execute_result",
          "data": {
            "text/plain": [
              "['sql', 'tableau', 'excel']"
            ]
          },
          "metadata": {},
          "execution_count": 287
        }
      ]
    },
    {
      "cell_type": "code",
      "source": [
        "job_skills[::3]"
      ],
      "metadata": {
        "colab": {
          "base_uri": "https://localhost:8080/"
        },
        "id": "L7wn4w2URst0",
        "outputId": "b0c554c0-4ac2-4450-c036-f18dbc5c49ec"
      },
      "execution_count": 288,
      "outputs": [
        {
          "output_type": "execute_result",
          "data": {
            "text/plain": [
              "['sql']"
            ]
          },
          "metadata": {},
          "execution_count": 288
        }
      ]
    },
    {
      "cell_type": "code",
      "source": [
        "luke_skills = ['python', 'bigquery', 'R']\n",
        "kelly_skills = ['python', 'sql', 'looker']\n",
        "\n",
        "all_skills = luke_skills + kelly_skills\n",
        "\n",
        "all_skills"
      ],
      "metadata": {
        "colab": {
          "base_uri": "https://localhost:8080/"
        },
        "id": "rOQY-suvRsq9",
        "outputId": "69b94315-6d65-40ff-9a22-22acf7b53e67"
      },
      "execution_count": 289,
      "outputs": [
        {
          "output_type": "execute_result",
          "data": {
            "text/plain": [
              "['python', 'bigquery', 'R', 'python', 'sql', 'looker']"
            ]
          },
          "metadata": {},
          "execution_count": 289
        }
      ]
    },
    {
      "cell_type": "code",
      "source": [
        "all_skills[::2]"
      ],
      "metadata": {
        "colab": {
          "base_uri": "https://localhost:8080/"
        },
        "id": "zjsykOUjRsoI",
        "outputId": "46c4dd26-4496-4543-d78b-fe825857e814"
      },
      "execution_count": 290,
      "outputs": [
        {
          "output_type": "execute_result",
          "data": {
            "text/plain": [
              "['python', 'R', 'sql']"
            ]
          },
          "metadata": {},
          "execution_count": 290
        }
      ]
    },
    {
      "cell_type": "code",
      "source": [
        "all_skills[5:]"
      ],
      "metadata": {
        "colab": {
          "base_uri": "https://localhost:8080/"
        },
        "id": "XpY2UmvJSzEu",
        "outputId": "d7df529f-feb6-4c30-c31f-bbbc5b5b8ba9"
      },
      "execution_count": 291,
      "outputs": [
        {
          "output_type": "execute_result",
          "data": {
            "text/plain": [
              "['looker']"
            ]
          },
          "metadata": {},
          "execution_count": 291
        }
      ]
    },
    {
      "cell_type": "code",
      "source": [
        "all_skills[-1:]"
      ],
      "metadata": {
        "colab": {
          "base_uri": "https://localhost:8080/"
        },
        "id": "IHC9xhjzSy-P",
        "outputId": "7a742f50-ed5b-4108-eee0-cd5dd8bbf4ae"
      },
      "execution_count": 292,
      "outputs": [
        {
          "output_type": "execute_result",
          "data": {
            "text/plain": [
              "['looker']"
            ]
          },
          "metadata": {},
          "execution_count": 292
        }
      ]
    },
    {
      "cell_type": "code",
      "source": [
        "job_skills"
      ],
      "metadata": {
        "colab": {
          "base_uri": "https://localhost:8080/"
        },
        "id": "S6NN9oYOTtrx",
        "outputId": "06704d8f-6acd-4bf8-b855-2a2e9c06682c"
      },
      "execution_count": 293,
      "outputs": [
        {
          "output_type": "execute_result",
          "data": {
            "text/plain": [
              "['sql', 'tableau', 'excel']"
            ]
          },
          "metadata": {},
          "execution_count": 293
        }
      ]
    },
    {
      "cell_type": "code",
      "source": [
        "#skill1, skill2, skill3, skill4 = job_skills"
      ],
      "metadata": {
        "id": "Q4K1JwSXTtnE"
      },
      "execution_count": 294,
      "outputs": []
    },
    {
      "cell_type": "code",
      "source": [
        "'''print(skill1)\n",
        "print(skill2)\n",
        "print(skill3)\n",
        "print(skill4)'''"
      ],
      "metadata": {
        "colab": {
          "base_uri": "https://localhost:8080/",
          "height": 36
        },
        "id": "tJmjaNQWTtkM",
        "outputId": "f44c0fc5-7d92-4449-dd6b-3db73742598b"
      },
      "execution_count": 295,
      "outputs": [
        {
          "output_type": "execute_result",
          "data": {
            "text/plain": [
              "'print(skill1)\\nprint(skill2)\\nprint(skill3)\\nprint(skill4)'"
            ],
            "application/vnd.google.colaboratory.intrinsic+json": {
              "type": "string"
            }
          },
          "metadata": {},
          "execution_count": 295
        }
      ]
    },
    {
      "cell_type": "code",
      "source": [
        "skill_concerned, *other_skills = job_skills #unpacks an interval first skill will go to the ifrst variable all the rest in the second"
      ],
      "metadata": {
        "id": "D_VCVUZETthW"
      },
      "execution_count": 296,
      "outputs": []
    },
    {
      "cell_type": "code",
      "source": [
        "print(skill_concerned)\n",
        "print(other_skills)"
      ],
      "metadata": {
        "colab": {
          "base_uri": "https://localhost:8080/"
        },
        "id": "VJk3NiLMTtd9",
        "outputId": "96024419-3ee4-4f02-faba-82f980d155f0"
      },
      "execution_count": 297,
      "outputs": [
        {
          "output_type": "stream",
          "name": "stdout",
          "text": [
            "sql\n",
            "['tableau', 'excel']\n"
          ]
        }
      ]
    },
    {
      "cell_type": "markdown",
      "source": [
        "# Dictionaries"
      ],
      "metadata": {
        "id": "jK0-tSugVKI_"
      }
    },
    {
      "cell_type": "markdown",
      "source": [
        "dictonaries is not ordered, values can de duplicated, keys cannot, mutable"
      ],
      "metadata": {
        "id": "mOhxbEP5gqXU"
      }
    },
    {
      "cell_type": "code",
      "source": [
        "job_type_skills = {\n",
        "    'database': 'postreqsql',\n",
        "    'language':'python',\n",
        "    'library': 'pandas'\n",
        " }"
      ],
      "metadata": {
        "id": "r8CkDqvjVPJR"
      },
      "execution_count": 298,
      "outputs": []
    },
    {
      "cell_type": "code",
      "source": [
        "job_type_skills"
      ],
      "metadata": {
        "colab": {
          "base_uri": "https://localhost:8080/"
        },
        "id": "PHXKiph8VPG9",
        "outputId": "daf96683-4798-4bdd-d786-6c108d2a4644"
      },
      "execution_count": 299,
      "outputs": [
        {
          "output_type": "execute_result",
          "data": {
            "text/plain": [
              "{'database': 'postreqsql', 'language': 'python', 'library': 'pandas'}"
            ]
          },
          "metadata": {},
          "execution_count": 299
        }
      ]
    },
    {
      "cell_type": "code",
      "source": [
        "job_type_skills['database']"
      ],
      "metadata": {
        "colab": {
          "base_uri": "https://localhost:8080/",
          "height": 36
        },
        "id": "-oXAgt3UVPEm",
        "outputId": "97ea2ea8-b487-431b-abf2-4eba2bf57ce1"
      },
      "execution_count": 300,
      "outputs": [
        {
          "output_type": "execute_result",
          "data": {
            "text/plain": [
              "'postreqsql'"
            ],
            "application/vnd.google.colaboratory.intrinsic+json": {
              "type": "string"
            }
          },
          "metadata": {},
          "execution_count": 300
        }
      ]
    },
    {
      "cell_type": "code",
      "source": [
        "job_type_skills.keys()"
      ],
      "metadata": {
        "colab": {
          "base_uri": "https://localhost:8080/"
        },
        "id": "GQ3Eg_v9VPB_",
        "outputId": "8e899f90-40e8-4990-d655-58f5aacd8cb2"
      },
      "execution_count": 301,
      "outputs": [
        {
          "output_type": "execute_result",
          "data": {
            "text/plain": [
              "dict_keys(['database', 'language', 'library'])"
            ]
          },
          "metadata": {},
          "execution_count": 301
        }
      ]
    },
    {
      "cell_type": "code",
      "source": [
        "job_type_skills.values()"
      ],
      "metadata": {
        "colab": {
          "base_uri": "https://localhost:8080/"
        },
        "id": "0Wg8sjMyVO_r",
        "outputId": "8a9d0da7-be00-4ef8-a309-3068a23eef3b"
      },
      "execution_count": 302,
      "outputs": [
        {
          "output_type": "execute_result",
          "data": {
            "text/plain": [
              "dict_values(['postreqsql', 'python', 'pandas'])"
            ]
          },
          "metadata": {},
          "execution_count": 302
        }
      ]
    },
    {
      "cell_type": "code",
      "source": [
        "job_type_skills.pop('library')"
      ],
      "metadata": {
        "colab": {
          "base_uri": "https://localhost:8080/",
          "height": 36
        },
        "id": "Mo6OjCkwVO9B",
        "outputId": "f224bf38-e5c4-41b0-cc76-a2c321c66aa4"
      },
      "execution_count": 303,
      "outputs": [
        {
          "output_type": "execute_result",
          "data": {
            "text/plain": [
              "'pandas'"
            ],
            "application/vnd.google.colaboratory.intrinsic+json": {
              "type": "string"
            }
          },
          "metadata": {},
          "execution_count": 303
        }
      ]
    },
    {
      "cell_type": "code",
      "source": [
        "job_type_skills.update({'cloud':'google cloud'})"
      ],
      "metadata": {
        "id": "6tnZxxjnVO6K"
      },
      "execution_count": 304,
      "outputs": []
    },
    {
      "cell_type": "code",
      "source": [
        "job_type_skills"
      ],
      "metadata": {
        "colab": {
          "base_uri": "https://localhost:8080/"
        },
        "id": "DfkhQ7TXVO3k",
        "outputId": "7bf740fd-92d5-481d-d307-664aee99433c"
      },
      "execution_count": 305,
      "outputs": [
        {
          "output_type": "execute_result",
          "data": {
            "text/plain": [
              "{'database': 'postreqsql', 'language': 'python', 'cloud': 'google cloud'}"
            ]
          },
          "metadata": {},
          "execution_count": 305
        }
      ]
    },
    {
      "cell_type": "code",
      "source": [
        "job_type_skills['version control'] ='git ' #inserts a new key and value"
      ],
      "metadata": {
        "id": "KvrRj3CLVO0g"
      },
      "execution_count": 306,
      "outputs": []
    },
    {
      "cell_type": "code",
      "source": [
        "job_type_skills"
      ],
      "metadata": {
        "colab": {
          "base_uri": "https://localhost:8080/"
        },
        "id": "xDUT_8_FVOxU",
        "outputId": "55160da2-bc79-441a-e7e6-73667b37eaea"
      },
      "execution_count": 307,
      "outputs": [
        {
          "output_type": "execute_result",
          "data": {
            "text/plain": [
              "{'database': 'postreqsql',\n",
              " 'language': 'python',\n",
              " 'cloud': 'google cloud',\n",
              " 'version control': 'git '}"
            ]
          },
          "metadata": {},
          "execution_count": 307
        }
      ]
    },
    {
      "cell_type": "code",
      "source": [],
      "metadata": {
        "id": "LGdToaOeVOt8"
      },
      "execution_count": 307,
      "outputs": []
    },
    {
      "cell_type": "markdown",
      "source": [
        "# Sets\n"
      ],
      "metadata": {
        "id": "4qPHeFfehB1I"
      }
    },
    {
      "cell_type": "markdown",
      "source": [
        "mutable, unique no duplicates, unordered, no indexing\n",
        "\n"
      ],
      "metadata": {
        "id": "gQrtN5A-hGCo"
      }
    },
    {
      "cell_type": "code",
      "source": [
        "job_skills2 = {'tableau', 'sql', 'python', 'statistics'}"
      ],
      "metadata": {
        "id": "JrOVqonShM6f"
      },
      "execution_count": 308,
      "outputs": []
    },
    {
      "cell_type": "code",
      "source": [
        "job_skills2"
      ],
      "metadata": {
        "colab": {
          "base_uri": "https://localhost:8080/"
        },
        "id": "gq09zHQ_hM3n",
        "outputId": "c6850435-fbba-409b-ff3f-95f0c2b114ff"
      },
      "execution_count": 309,
      "outputs": [
        {
          "output_type": "execute_result",
          "data": {
            "text/plain": [
              "{'python', 'sql', 'statistics', 'tableau'}"
            ]
          },
          "metadata": {},
          "execution_count": 309
        }
      ]
    },
    {
      "cell_type": "code",
      "source": [
        "job_skills2.add('excel')"
      ],
      "metadata": {
        "id": "Px3Fp4FmhMyJ"
      },
      "execution_count": 310,
      "outputs": []
    },
    {
      "cell_type": "code",
      "source": [
        "job_skills2"
      ],
      "metadata": {
        "colab": {
          "base_uri": "https://localhost:8080/"
        },
        "id": "rcITi-1AhMvj",
        "outputId": "b563553d-23b1-4bca-d90f-8d672bb85f37"
      },
      "execution_count": 311,
      "outputs": [
        {
          "output_type": "execute_result",
          "data": {
            "text/plain": [
              "{'excel', 'python', 'sql', 'statistics', 'tableau'}"
            ]
          },
          "metadata": {},
          "execution_count": 311
        }
      ]
    },
    {
      "cell_type": "code",
      "source": [
        "job_skills2.remove('tableau')"
      ],
      "metadata": {
        "id": "_jY3KFOLhMss"
      },
      "execution_count": 312,
      "outputs": []
    },
    {
      "cell_type": "code",
      "source": [
        "job_skills2"
      ],
      "metadata": {
        "colab": {
          "base_uri": "https://localhost:8080/"
        },
        "id": "7f4KbR-_hMqV",
        "outputId": "aa275a8d-0ddc-4144-ab28-5b61a4950f82"
      },
      "execution_count": 313,
      "outputs": [
        {
          "output_type": "execute_result",
          "data": {
            "text/plain": [
              "{'excel', 'python', 'sql', 'statistics'}"
            ]
          },
          "metadata": {},
          "execution_count": 313
        }
      ]
    },
    {
      "cell_type": "code",
      "source": [
        "skill_set = ['python', 'sql','statistics', 'tableau', 'python', 'sql', 'statistics', 'tablequ']"
      ],
      "metadata": {
        "id": "Na62_Cx4hMnu"
      },
      "execution_count": 314,
      "outputs": []
    },
    {
      "cell_type": "code",
      "source": [
        "set(skill_set)"
      ],
      "metadata": {
        "colab": {
          "base_uri": "https://localhost:8080/"
        },
        "id": "hSspRVfqhMiQ",
        "outputId": "337b57a1-c034-4f53-92be-394a9eb572a9"
      },
      "execution_count": 315,
      "outputs": [
        {
          "output_type": "execute_result",
          "data": {
            "text/plain": [
              "{'python', 'sql', 'statistics', 'tableau', 'tablequ'}"
            ]
          },
          "metadata": {},
          "execution_count": 315
        }
      ]
    },
    {
      "cell_type": "code",
      "source": [
        "list(set(skill_set))"
      ],
      "metadata": {
        "colab": {
          "base_uri": "https://localhost:8080/"
        },
        "id": "SN93CVlqhMem",
        "outputId": "012f9ea1-395b-4b2a-cb3e-8213d0671149"
      },
      "execution_count": 316,
      "outputs": [
        {
          "output_type": "execute_result",
          "data": {
            "text/plain": [
              "['python', 'tablequ', 'sql', 'statistics', 'tableau']"
            ]
          },
          "metadata": {},
          "execution_count": 316
        }
      ]
    },
    {
      "cell_type": "markdown",
      "source": [
        "# Tuples"
      ],
      "metadata": {
        "id": "-WAPrczzpuR7"
      }
    },
    {
      "cell_type": "markdown",
      "source": [
        "for fixed data, sequence, ordered, indexing, immutable, duplicates allowed"
      ],
      "metadata": {
        "id": "DDrP7a29p-6L"
      }
    },
    {
      "cell_type": "code",
      "source": [
        "lukes_skills = ('python', 'sql', 'tableau', 'statistics')\n",
        "\n",
        "lukes_skills"
      ],
      "metadata": {
        "colab": {
          "base_uri": "https://localhost:8080/"
        },
        "id": "NJ5xT4E4pzsd",
        "outputId": "d6014fcf-2ba2-4502-80d9-886f983d55cd"
      },
      "execution_count": 317,
      "outputs": [
        {
          "output_type": "execute_result",
          "data": {
            "text/plain": [
              "('python', 'sql', 'tableau', 'statistics')"
            ]
          },
          "metadata": {},
          "execution_count": 317
        }
      ]
    },
    {
      "cell_type": "code",
      "source": [
        "lukes_skills[0]"
      ],
      "metadata": {
        "colab": {
          "base_uri": "https://localhost:8080/",
          "height": 36
        },
        "id": "dlQkpwGrpzo1",
        "outputId": "6f478b38-2c48-4e02-c28e-75e91d713308"
      },
      "execution_count": 318,
      "outputs": [
        {
          "output_type": "execute_result",
          "data": {
            "text/plain": [
              "'python'"
            ],
            "application/vnd.google.colaboratory.intrinsic+json": {
              "type": "string"
            }
          },
          "metadata": {},
          "execution_count": 318
        }
      ]
    },
    {
      "cell_type": "code",
      "source": [
        "lukes_skills[0:2]"
      ],
      "metadata": {
        "colab": {
          "base_uri": "https://localhost:8080/"
        },
        "id": "g2xbTQ8_pzme",
        "outputId": "c647aa0e-4f67-40c7-9023-af9bbecc4b08"
      },
      "execution_count": 319,
      "outputs": [
        {
          "output_type": "execute_result",
          "data": {
            "text/plain": [
              "('python', 'sql')"
            ]
          },
          "metadata": {},
          "execution_count": 319
        }
      ]
    },
    {
      "cell_type": "code",
      "source": [
        "new_skills = ('excel', 'power bi')\n",
        "\n",
        "overall_skills = lukes_skills + new_skills\n",
        "\n",
        "overall_skills"
      ],
      "metadata": {
        "colab": {
          "base_uri": "https://localhost:8080/"
        },
        "id": "UlRjjanspzjb",
        "outputId": "5d280661-bfa3-4f93-ca69-b567ea369fa7"
      },
      "execution_count": 320,
      "outputs": [
        {
          "output_type": "execute_result",
          "data": {
            "text/plain": [
              "('python', 'sql', 'tableau', 'statistics', 'excel', 'power bi')"
            ]
          },
          "metadata": {},
          "execution_count": 320
        }
      ]
    },
    {
      "cell_type": "code",
      "source": [
        "overall_skills[-1::]"
      ],
      "metadata": {
        "colab": {
          "base_uri": "https://localhost:8080/"
        },
        "id": "lnjKWm_1OklK",
        "outputId": "37774852-9d48-4704-9295-5a251fb3d4e2"
      },
      "execution_count": 321,
      "outputs": [
        {
          "output_type": "execute_result",
          "data": {
            "text/plain": [
              "('power bi',)"
            ]
          },
          "metadata": {},
          "execution_count": 321
        }
      ]
    },
    {
      "cell_type": "code",
      "source": [
        "overall_skills[0:3]"
      ],
      "metadata": {
        "id": "bn8jKDL0pzgQ",
        "colab": {
          "base_uri": "https://localhost:8080/"
        },
        "outputId": "f14be6f6-f1ee-471a-cf58-73331a094bf5"
      },
      "execution_count": 322,
      "outputs": [
        {
          "output_type": "execute_result",
          "data": {
            "text/plain": [
              "('python', 'sql', 'tableau')"
            ]
          },
          "metadata": {},
          "execution_count": 322
        }
      ]
    },
    {
      "cell_type": "markdown",
      "source": [
        "# Range"
      ],
      "metadata": {
        "id": "w94o1I1bPQWf"
      }
    },
    {
      "cell_type": "code",
      "source": [
        "range(5)"
      ],
      "metadata": {
        "id": "RYP1lBwEpzZM",
        "colab": {
          "base_uri": "https://localhost:8080/"
        },
        "outputId": "f56cdd91-bccb-44d5-c754-ad35010a4fa7"
      },
      "execution_count": 323,
      "outputs": [
        {
          "output_type": "execute_result",
          "data": {
            "text/plain": [
              "range(0, 5)"
            ]
          },
          "metadata": {},
          "execution_count": 323
        }
      ]
    },
    {
      "cell_type": "code",
      "source": [
        "tuple(range(2,5))"
      ],
      "metadata": {
        "id": "qTIAx321pzWW",
        "colab": {
          "base_uri": "https://localhost:8080/"
        },
        "outputId": "d20d78c4-4835-4c90-b6f5-91fe82ea60b2"
      },
      "execution_count": 324,
      "outputs": [
        {
          "output_type": "execute_result",
          "data": {
            "text/plain": [
              "(2, 3, 4)"
            ]
          },
          "metadata": {},
          "execution_count": 324
        }
      ]
    },
    {
      "cell_type": "code",
      "source": [
        "tuple(range(2, 101, 2))"
      ],
      "metadata": {
        "id": "BQsuOB-npzL6",
        "colab": {
          "base_uri": "https://localhost:8080/"
        },
        "outputId": "e12447f3-c75f-4bbf-c639-edabcd48b97c"
      },
      "execution_count": 325,
      "outputs": [
        {
          "output_type": "execute_result",
          "data": {
            "text/plain": [
              "(2,\n",
              " 4,\n",
              " 6,\n",
              " 8,\n",
              " 10,\n",
              " 12,\n",
              " 14,\n",
              " 16,\n",
              " 18,\n",
              " 20,\n",
              " 22,\n",
              " 24,\n",
              " 26,\n",
              " 28,\n",
              " 30,\n",
              " 32,\n",
              " 34,\n",
              " 36,\n",
              " 38,\n",
              " 40,\n",
              " 42,\n",
              " 44,\n",
              " 46,\n",
              " 48,\n",
              " 50,\n",
              " 52,\n",
              " 54,\n",
              " 56,\n",
              " 58,\n",
              " 60,\n",
              " 62,\n",
              " 64,\n",
              " 66,\n",
              " 68,\n",
              " 70,\n",
              " 72,\n",
              " 74,\n",
              " 76,\n",
              " 78,\n",
              " 80,\n",
              " 82,\n",
              " 84,\n",
              " 86,\n",
              " 88,\n",
              " 90,\n",
              " 92,\n",
              " 94,\n",
              " 96,\n",
              " 98,\n",
              " 100)"
            ]
          },
          "metadata": {},
          "execution_count": 325
        }
      ]
    },
    {
      "cell_type": "code",
      "source": [],
      "metadata": {
        "id": "hRaBRNjNpzJE"
      },
      "execution_count": 325,
      "outputs": []
    },
    {
      "cell_type": "markdown",
      "source": [
        "# operators"
      ],
      "metadata": {
        "id": "jEh8lrmwQNlR"
      }
    },
    {
      "cell_type": "markdown",
      "source": [
        "operators - and , or , not        example - x and y, x or y, not x"
      ],
      "metadata": {
        "id": "gPz-GaBXQRde"
      }
    },
    {
      "cell_type": "code",
      "source": [
        "job_wfh = True\n",
        "job_health_insurance = False\n",
        "JOb_degree = True\n",
        "\n",
        "job_wfh and job_health_insurance and job_degree"
      ],
      "metadata": {
        "colab": {
          "base_uri": "https://localhost:8080/"
        },
        "id": "Anqat_fGPU1B",
        "outputId": "ba48f2d3-a1d3-491f-ca4a-3db06dae6190"
      },
      "execution_count": 326,
      "outputs": [
        {
          "output_type": "execute_result",
          "data": {
            "text/plain": [
              "False"
            ]
          },
          "metadata": {},
          "execution_count": 326
        }
      ]
    },
    {
      "cell_type": "code",
      "source": [
        "job_wfh or job_health_insurance or job_degree"
      ],
      "metadata": {
        "colab": {
          "base_uri": "https://localhost:8080/"
        },
        "id": "Tqob7EaLPUvV",
        "outputId": "d05e07fb-6318-4d85-80a5-bb342d78c127"
      },
      "execution_count": 327,
      "outputs": [
        {
          "output_type": "execute_result",
          "data": {
            "text/plain": [
              "True"
            ]
          },
          "metadata": {},
          "execution_count": 327
        }
      ]
    },
    {
      "cell_type": "code",
      "source": [
        "not False"
      ],
      "metadata": {
        "colab": {
          "base_uri": "https://localhost:8080/"
        },
        "id": "dlHIQoprPUsL",
        "outputId": "065646aa-a841-44ec-fc1a-e0bc73c75084"
      },
      "execution_count": 328,
      "outputs": [
        {
          "output_type": "execute_result",
          "data": {
            "text/plain": [
              "True"
            ]
          },
          "metadata": {},
          "execution_count": 328
        }
      ]
    },
    {
      "cell_type": "markdown",
      "source": [
        "membership operators checking if and object is inside of another object"
      ],
      "metadata": {
        "id": "7LtWpYhBRSId"
      }
    },
    {
      "cell_type": "markdown",
      "source": [
        "in memebrsship x in y, not in not mebership x not in y"
      ],
      "metadata": {
        "id": "7RH00wp6Rbms"
      }
    },
    {
      "cell_type": "code",
      "source": [
        "'Data' in 'Data nerd '"
      ],
      "metadata": {
        "colab": {
          "base_uri": "https://localhost:8080/"
        },
        "id": "0r12j8eXRZfM",
        "outputId": "7210d0a6-d1e2-4c55-8b1c-eba1e239f331"
      },
      "execution_count": 329,
      "outputs": [
        {
          "output_type": "execute_result",
          "data": {
            "text/plain": [
              "True"
            ]
          },
          "metadata": {},
          "execution_count": 329
        }
      ]
    },
    {
      "cell_type": "code",
      "source": [
        "'data ' in 'Data nerd' # case sensitive"
      ],
      "metadata": {
        "colab": {
          "base_uri": "https://localhost:8080/"
        },
        "id": "mpD2DRBhRZ3o",
        "outputId": "f4ea1d65-57a0-4ae6-dbed-6608d941aee1"
      },
      "execution_count": 330,
      "outputs": [
        {
          "output_type": "execute_result",
          "data": {
            "text/plain": [
              "False"
            ]
          },
          "metadata": {},
          "execution_count": 330
        }
      ]
    },
    {
      "cell_type": "code",
      "source": [
        "job_skills = ['python', 'sql', 'tableau']"
      ],
      "metadata": {
        "id": "Um04TeOSRZ0A"
      },
      "execution_count": 331,
      "outputs": []
    },
    {
      "cell_type": "code",
      "source": [
        "'python' in job_skills"
      ],
      "metadata": {
        "colab": {
          "base_uri": "https://localhost:8080/"
        },
        "id": "b6DCWIa2RZlD",
        "outputId": "499db651-7950-45b1-c8de-8f0faa09c53b"
      },
      "execution_count": 332,
      "outputs": [
        {
          "output_type": "execute_result",
          "data": {
            "text/plain": [
              "True"
            ]
          },
          "metadata": {},
          "execution_count": 332
        }
      ]
    },
    {
      "cell_type": "markdown",
      "source": [
        "identity operates are use to identify if soemthing is correlated to another"
      ],
      "metadata": {
        "id": "pwobQIgyR6Ig"
      }
    },
    {
      "cell_type": "markdown",
      "source": [
        "is identity x is y, is not not identity x is not y"
      ],
      "metadata": {
        "id": "JQg2E4lASDFO"
      }
    },
    {
      "cell_type": "code",
      "source": [
        "salary_kelly = 100_000\n",
        "salary_britt = 100_000\n",
        "\n",
        "salary_kelly is salary_britt # 'is' operator is checking to see if these two variables are using the same memory location"
      ],
      "metadata": {
        "colab": {
          "base_uri": "https://localhost:8080/"
        },
        "id": "ZUVkgsGVSIIy",
        "outputId": "3844a1b7-9a06-4aa9-bf2b-17e4472cec65"
      },
      "execution_count": 333,
      "outputs": [
        {
          "output_type": "execute_result",
          "data": {
            "text/plain": [
              "False"
            ]
          },
          "metadata": {},
          "execution_count": 333
        }
      ]
    },
    {
      "cell_type": "code",
      "source": [
        "id(salary_kelly)"
      ],
      "metadata": {
        "colab": {
          "base_uri": "https://localhost:8080/"
        },
        "id": "JjLDAyLkSJTS",
        "outputId": "2c4d1ca1-1ef8-4be5-bec7-219fe98b3aef"
      },
      "execution_count": 334,
      "outputs": [
        {
          "output_type": "execute_result",
          "data": {
            "text/plain": [
              "138572877754192"
            ]
          },
          "metadata": {},
          "execution_count": 334
        }
      ]
    },
    {
      "cell_type": "code",
      "source": [
        "id(salary_britt)"
      ],
      "metadata": {
        "colab": {
          "base_uri": "https://localhost:8080/"
        },
        "id": "fDhXJu07SJQh",
        "outputId": "cb7b6491-16c6-4db7-da21-0ae5a3afc72c"
      },
      "execution_count": 335,
      "outputs": [
        {
          "output_type": "execute_result",
          "data": {
            "text/plain": [
              "138572877754224"
            ]
          },
          "metadata": {},
          "execution_count": 335
        }
      ]
    },
    {
      "cell_type": "code",
      "source": [
        "core_skills = ['python', 'sql', 'tableau']\n",
        "britt_skills = core_skills"
      ],
      "metadata": {
        "id": "98MvYgoaSJH2"
      },
      "execution_count": 336,
      "outputs": []
    },
    {
      "cell_type": "code",
      "source": [
        "core_skills is britt_skills"
      ],
      "metadata": {
        "colab": {
          "base_uri": "https://localhost:8080/"
        },
        "id": "Wgi67QBZSJFW",
        "outputId": "eab80963-4f33-43a1-d53c-e061acdc4ab7"
      },
      "execution_count": 337,
      "outputs": [
        {
          "output_type": "execute_result",
          "data": {
            "text/plain": [
              "True"
            ]
          },
          "metadata": {},
          "execution_count": 337
        }
      ]
    },
    {
      "cell_type": "code",
      "source": [
        "id(core_skills)"
      ],
      "metadata": {
        "colab": {
          "base_uri": "https://localhost:8080/"
        },
        "id": "gJZwBFSiSJCZ",
        "outputId": "218c8ec7-17d3-4efb-d323-8ab8d38329e0"
      },
      "execution_count": 338,
      "outputs": [
        {
          "output_type": "execute_result",
          "data": {
            "text/plain": [
              "138572877275264"
            ]
          },
          "metadata": {},
          "execution_count": 338
        }
      ]
    },
    {
      "cell_type": "code",
      "source": [
        "id(britt_skills)"
      ],
      "metadata": {
        "colab": {
          "base_uri": "https://localhost:8080/"
        },
        "id": "vbXhqIDeSI_X",
        "outputId": "babfd6d0-e14b-4f7a-ec3c-402cba05c39f"
      },
      "execution_count": 339,
      "outputs": [
        {
          "output_type": "execute_result",
          "data": {
            "text/plain": [
              "138572877275264"
            ]
          },
          "metadata": {},
          "execution_count": 339
        }
      ]
    },
    {
      "cell_type": "markdown",
      "source": [
        "bitwise operators\n",
        "*   & - AND - x & y\n",
        "*   | - OR - x | y\n",
        "*   ^ - XOR - x ^ y\n",
        "*   ~ - NOT ~x\n",
        "*   << - Left shit - x << y\n",
        "*   >> - right shift - x >> y\n",
        "\n",
        "\n"
      ],
      "metadata": {
        "id": "h-iIt3adYzyU"
      }
    },
    {
      "cell_type": "code",
      "source": [
        "bin(42)"
      ],
      "metadata": {
        "colab": {
          "base_uri": "https://localhost:8080/",
          "height": 36
        },
        "id": "cvjV5qmsTU-D",
        "outputId": "783c0038-edde-4602-ef60-d793772540ee"
      },
      "execution_count": 340,
      "outputs": [
        {
          "output_type": "execute_result",
          "data": {
            "text/plain": [
              "'0b101010'"
            ],
            "application/vnd.google.colaboratory.intrinsic+json": {
              "type": "string"
            }
          },
          "metadata": {},
          "execution_count": 340
        }
      ]
    },
    {
      "cell_type": "markdown",
      "source": [
        "# Loops"
      ],
      "metadata": {
        "id": "GTWPFPdbZ0sS"
      }
    },
    {
      "cell_type": "code",
      "source": [
        "numbers = [0, 1, 2, 3, 4, 5]\n",
        "\n",
        "for number in numbers:\n",
        "  print(number)"
      ],
      "metadata": {
        "colab": {
          "base_uri": "https://localhost:8080/"
        },
        "id": "F7fjNLV0TU3l",
        "outputId": "fc84c43b-b995-4f4f-f56e-b1c5155195ea"
      },
      "execution_count": 341,
      "outputs": [
        {
          "output_type": "stream",
          "name": "stdout",
          "text": [
            "0\n",
            "1\n",
            "2\n",
            "3\n",
            "4\n",
            "5\n"
          ]
        }
      ]
    },
    {
      "cell_type": "code",
      "source": [
        "characters = 'PYTHON'\n",
        "\n",
        "for character in characters:\n",
        "  print(character)"
      ],
      "metadata": {
        "colab": {
          "base_uri": "https://localhost:8080/"
        },
        "id": "rV1jw6euTU0U",
        "outputId": "cae21feb-2b2f-4ff4-f661-5f33d1494145"
      },
      "execution_count": 342,
      "outputs": [
        {
          "output_type": "stream",
          "name": "stdout",
          "text": [
            "P\n",
            "Y\n",
            "T\n",
            "H\n",
            "O\n",
            "N\n"
          ]
        }
      ]
    },
    {
      "cell_type": "code",
      "source": [
        "years_of_experience = {\n",
        "    'Britt' : 3,\n",
        "    'Chris': 6,\n",
        "    'Mel' : 4,\n",
        "    'kelly' : 3,\n",
        "    'mary': 7\n",
        "}"
      ],
      "metadata": {
        "id": "FhqL_kLXZ73I"
      },
      "execution_count": 343,
      "outputs": []
    },
    {
      "cell_type": "code",
      "source": [
        "for value in years_of_experience.values():\n",
        "  print(value)"
      ],
      "metadata": {
        "colab": {
          "base_uri": "https://localhost:8080/"
        },
        "id": "xq6v4UPjZ70a",
        "outputId": "c93bd5b4-d0d1-4f76-d8c1-83a552623bdb"
      },
      "execution_count": 344,
      "outputs": [
        {
          "output_type": "stream",
          "name": "stdout",
          "text": [
            "3\n",
            "6\n",
            "4\n",
            "3\n",
            "7\n"
          ]
        }
      ]
    },
    {
      "cell_type": "code",
      "source": [
        "for key, value  in years_of_experience.items():\n",
        "  if value > 5:\n",
        "    print(key, 'has', value, 'years of experience')"
      ],
      "metadata": {
        "colab": {
          "base_uri": "https://localhost:8080/"
        },
        "id": "grLXXlX9Z7xO",
        "outputId": "1e72f781-42f2-4fb3-bc0d-a908a6004a60"
      },
      "execution_count": 345,
      "outputs": [
        {
          "output_type": "stream",
          "name": "stdout",
          "text": [
            "Chris has 6 years of experience\n",
            "mary has 7 years of experience\n"
          ]
        }
      ]
    },
    {
      "cell_type": "code",
      "source": [
        "for x in range(100):\n",
        "  print(x)"
      ],
      "metadata": {
        "colab": {
          "base_uri": "https://localhost:8080/"
        },
        "id": "oixsIZivZ7tc",
        "outputId": "6b176aeb-042d-46fe-ff6a-b64d8fe89d1e"
      },
      "execution_count": 346,
      "outputs": [
        {
          "output_type": "stream",
          "name": "stdout",
          "text": [
            "0\n",
            "1\n",
            "2\n",
            "3\n",
            "4\n",
            "5\n",
            "6\n",
            "7\n",
            "8\n",
            "9\n",
            "10\n",
            "11\n",
            "12\n",
            "13\n",
            "14\n",
            "15\n",
            "16\n",
            "17\n",
            "18\n",
            "19\n",
            "20\n",
            "21\n",
            "22\n",
            "23\n",
            "24\n",
            "25\n",
            "26\n",
            "27\n",
            "28\n",
            "29\n",
            "30\n",
            "31\n",
            "32\n",
            "33\n",
            "34\n",
            "35\n",
            "36\n",
            "37\n",
            "38\n",
            "39\n",
            "40\n",
            "41\n",
            "42\n",
            "43\n",
            "44\n",
            "45\n",
            "46\n",
            "47\n",
            "48\n",
            "49\n",
            "50\n",
            "51\n",
            "52\n",
            "53\n",
            "54\n",
            "55\n",
            "56\n",
            "57\n",
            "58\n",
            "59\n",
            "60\n",
            "61\n",
            "62\n",
            "63\n",
            "64\n",
            "65\n",
            "66\n",
            "67\n",
            "68\n",
            "69\n",
            "70\n",
            "71\n",
            "72\n",
            "73\n",
            "74\n",
            "75\n",
            "76\n",
            "77\n",
            "78\n",
            "79\n",
            "80\n",
            "81\n",
            "82\n",
            "83\n",
            "84\n",
            "85\n",
            "86\n",
            "87\n",
            "88\n",
            "89\n",
            "90\n",
            "91\n",
            "92\n",
            "93\n",
            "94\n",
            "95\n",
            "96\n",
            "97\n",
            "98\n",
            "99\n"
          ]
        }
      ]
    },
    {
      "cell_type": "code",
      "source": [
        "count = 1\n",
        "while count < 5:\n",
        "  print(count)\n",
        "  count += 1"
      ],
      "metadata": {
        "colab": {
          "base_uri": "https://localhost:8080/"
        },
        "id": "31KH9I0-Z7qB",
        "outputId": "aaa643b2-22a1-497d-bcb0-5bdcda2155ab"
      },
      "execution_count": 347,
      "outputs": [
        {
          "output_type": "stream",
          "name": "stdout",
          "text": [
            "1\n",
            "2\n",
            "3\n",
            "4\n"
          ]
        }
      ]
    },
    {
      "cell_type": "code",
      "source": [
        "years = 0\n",
        "index = 0\n",
        "\n",
        "years_list = list(years_of_experience.items())\n",
        "while years < 5:\n",
        "  key, years = years_list[index]\n",
        "  if years >= 5:\n",
        "    print(key, years)\n",
        "  index += 1\n"
      ],
      "metadata": {
        "colab": {
          "base_uri": "https://localhost:8080/"
        },
        "id": "r6MyMDqsZ4A2",
        "outputId": "e33ce39c-ed24-46f9-a4ea-423ae3a81d00"
      },
      "execution_count": 348,
      "outputs": [
        {
          "output_type": "stream",
          "name": "stdout",
          "text": [
            "Chris 6\n"
          ]
        }
      ]
    },
    {
      "cell_type": "markdown",
      "source": [
        "# list comprehension"
      ],
      "metadata": {
        "id": "EtaWk2p7h6vs"
      }
    },
    {
      "cell_type": "code",
      "source": [
        "numbers = [x for x in range(100)] # numbers from 0 to 100\n",
        "\n",
        "numbers"
      ],
      "metadata": {
        "colab": {
          "base_uri": "https://localhost:8080/"
        },
        "id": "yQKdUTtWgyUE",
        "outputId": "358155f0-50ee-45c6-b2cb-f12ada90d5a1"
      },
      "execution_count": 349,
      "outputs": [
        {
          "output_type": "execute_result",
          "data": {
            "text/plain": [
              "[0,\n",
              " 1,\n",
              " 2,\n",
              " 3,\n",
              " 4,\n",
              " 5,\n",
              " 6,\n",
              " 7,\n",
              " 8,\n",
              " 9,\n",
              " 10,\n",
              " 11,\n",
              " 12,\n",
              " 13,\n",
              " 14,\n",
              " 15,\n",
              " 16,\n",
              " 17,\n",
              " 18,\n",
              " 19,\n",
              " 20,\n",
              " 21,\n",
              " 22,\n",
              " 23,\n",
              " 24,\n",
              " 25,\n",
              " 26,\n",
              " 27,\n",
              " 28,\n",
              " 29,\n",
              " 30,\n",
              " 31,\n",
              " 32,\n",
              " 33,\n",
              " 34,\n",
              " 35,\n",
              " 36,\n",
              " 37,\n",
              " 38,\n",
              " 39,\n",
              " 40,\n",
              " 41,\n",
              " 42,\n",
              " 43,\n",
              " 44,\n",
              " 45,\n",
              " 46,\n",
              " 47,\n",
              " 48,\n",
              " 49,\n",
              " 50,\n",
              " 51,\n",
              " 52,\n",
              " 53,\n",
              " 54,\n",
              " 55,\n",
              " 56,\n",
              " 57,\n",
              " 58,\n",
              " 59,\n",
              " 60,\n",
              " 61,\n",
              " 62,\n",
              " 63,\n",
              " 64,\n",
              " 65,\n",
              " 66,\n",
              " 67,\n",
              " 68,\n",
              " 69,\n",
              " 70,\n",
              " 71,\n",
              " 72,\n",
              " 73,\n",
              " 74,\n",
              " 75,\n",
              " 76,\n",
              " 77,\n",
              " 78,\n",
              " 79,\n",
              " 80,\n",
              " 81,\n",
              " 82,\n",
              " 83,\n",
              " 84,\n",
              " 85,\n",
              " 86,\n",
              " 87,\n",
              " 88,\n",
              " 89,\n",
              " 90,\n",
              " 91,\n",
              " 92,\n",
              " 93,\n",
              " 94,\n",
              " 95,\n",
              " 96,\n",
              " 97,\n",
              " 98,\n",
              " 99]"
            ]
          },
          "metadata": {},
          "execution_count": 349
        }
      ]
    },
    {
      "cell_type": "code",
      "source": [
        "numbers = []\n",
        "\n",
        "for number in range(100):\n",
        "  numbers.append(number)"
      ],
      "metadata": {
        "id": "ISq-XLxkgyOv"
      },
      "execution_count": 350,
      "outputs": []
    },
    {
      "cell_type": "code",
      "source": [
        "numbers"
      ],
      "metadata": {
        "colab": {
          "base_uri": "https://localhost:8080/"
        },
        "id": "ojnEGEvJgyF2",
        "outputId": "e7298f81-24b5-4a77-cfb5-a02ad469b0fa"
      },
      "execution_count": 351,
      "outputs": [
        {
          "output_type": "execute_result",
          "data": {
            "text/plain": [
              "[0,\n",
              " 1,\n",
              " 2,\n",
              " 3,\n",
              " 4,\n",
              " 5,\n",
              " 6,\n",
              " 7,\n",
              " 8,\n",
              " 9,\n",
              " 10,\n",
              " 11,\n",
              " 12,\n",
              " 13,\n",
              " 14,\n",
              " 15,\n",
              " 16,\n",
              " 17,\n",
              " 18,\n",
              " 19,\n",
              " 20,\n",
              " 21,\n",
              " 22,\n",
              " 23,\n",
              " 24,\n",
              " 25,\n",
              " 26,\n",
              " 27,\n",
              " 28,\n",
              " 29,\n",
              " 30,\n",
              " 31,\n",
              " 32,\n",
              " 33,\n",
              " 34,\n",
              " 35,\n",
              " 36,\n",
              " 37,\n",
              " 38,\n",
              " 39,\n",
              " 40,\n",
              " 41,\n",
              " 42,\n",
              " 43,\n",
              " 44,\n",
              " 45,\n",
              " 46,\n",
              " 47,\n",
              " 48,\n",
              " 49,\n",
              " 50,\n",
              " 51,\n",
              " 52,\n",
              " 53,\n",
              " 54,\n",
              " 55,\n",
              " 56,\n",
              " 57,\n",
              " 58,\n",
              " 59,\n",
              " 60,\n",
              " 61,\n",
              " 62,\n",
              " 63,\n",
              " 64,\n",
              " 65,\n",
              " 66,\n",
              " 67,\n",
              " 68,\n",
              " 69,\n",
              " 70,\n",
              " 71,\n",
              " 72,\n",
              " 73,\n",
              " 74,\n",
              " 75,\n",
              " 76,\n",
              " 77,\n",
              " 78,\n",
              " 79,\n",
              " 80,\n",
              " 81,\n",
              " 82,\n",
              " 83,\n",
              " 84,\n",
              " 85,\n",
              " 86,\n",
              " 87,\n",
              " 88,\n",
              " 89,\n",
              " 90,\n",
              " 91,\n",
              " 92,\n",
              " 93,\n",
              " 94,\n",
              " 95,\n",
              " 96,\n",
              " 97,\n",
              " 98,\n",
              " 99]"
            ]
          },
          "metadata": {},
          "execution_count": 351
        }
      ]
    },
    {
      "cell_type": "code",
      "source": [
        "numbers = [x * 2 for x in range(100)]"
      ],
      "metadata": {
        "id": "vaNRWSqGgyCx"
      },
      "execution_count": 352,
      "outputs": []
    },
    {
      "cell_type": "code",
      "source": [
        "numbers"
      ],
      "metadata": {
        "colab": {
          "base_uri": "https://localhost:8080/"
        },
        "id": "LQ6oUkLimSi6",
        "outputId": "2a21712f-dc6b-4d7b-e14f-88dc3c755bf4"
      },
      "execution_count": 353,
      "outputs": [
        {
          "output_type": "execute_result",
          "data": {
            "text/plain": [
              "[0,\n",
              " 2,\n",
              " 4,\n",
              " 6,\n",
              " 8,\n",
              " 10,\n",
              " 12,\n",
              " 14,\n",
              " 16,\n",
              " 18,\n",
              " 20,\n",
              " 22,\n",
              " 24,\n",
              " 26,\n",
              " 28,\n",
              " 30,\n",
              " 32,\n",
              " 34,\n",
              " 36,\n",
              " 38,\n",
              " 40,\n",
              " 42,\n",
              " 44,\n",
              " 46,\n",
              " 48,\n",
              " 50,\n",
              " 52,\n",
              " 54,\n",
              " 56,\n",
              " 58,\n",
              " 60,\n",
              " 62,\n",
              " 64,\n",
              " 66,\n",
              " 68,\n",
              " 70,\n",
              " 72,\n",
              " 74,\n",
              " 76,\n",
              " 78,\n",
              " 80,\n",
              " 82,\n",
              " 84,\n",
              " 86,\n",
              " 88,\n",
              " 90,\n",
              " 92,\n",
              " 94,\n",
              " 96,\n",
              " 98,\n",
              " 100,\n",
              " 102,\n",
              " 104,\n",
              " 106,\n",
              " 108,\n",
              " 110,\n",
              " 112,\n",
              " 114,\n",
              " 116,\n",
              " 118,\n",
              " 120,\n",
              " 122,\n",
              " 124,\n",
              " 126,\n",
              " 128,\n",
              " 130,\n",
              " 132,\n",
              " 134,\n",
              " 136,\n",
              " 138,\n",
              " 140,\n",
              " 142,\n",
              " 144,\n",
              " 146,\n",
              " 148,\n",
              " 150,\n",
              " 152,\n",
              " 154,\n",
              " 156,\n",
              " 158,\n",
              " 160,\n",
              " 162,\n",
              " 164,\n",
              " 166,\n",
              " 168,\n",
              " 170,\n",
              " 172,\n",
              " 174,\n",
              " 176,\n",
              " 178,\n",
              " 180,\n",
              " 182,\n",
              " 184,\n",
              " 186,\n",
              " 188,\n",
              " 190,\n",
              " 192,\n",
              " 194,\n",
              " 196,\n",
              " 198]"
            ]
          },
          "metadata": {},
          "execution_count": 353
        }
      ]
    },
    {
      "cell_type": "markdown",
      "source": [
        "# Exercise"
      ],
      "metadata": {
        "id": "zYauMYAZoRHU"
      }
    },
    {
      "cell_type": "markdown",
      "source": [
        "Filter what jobs to apply for on a list of skills"
      ],
      "metadata": {
        "id": "38Ia0htUo51E"
      }
    },
    {
      "cell_type": "code",
      "source": [
        "my_skills = ['Python', 'SQL', 'Excel']"
      ],
      "metadata": {
        "id": "EenpDAgxnTpJ"
      },
      "execution_count": 354,
      "outputs": []
    },
    {
      "cell_type": "code",
      "source": [
        "job_roles = [\n",
        "    {'role': 'Data Analyst', 'skills': ['Python', 'SQL', 'Excel']},\n",
        "    {'role': 'Data Scientist', 'skills': ['Python', 'R', 'Machine Learning', 'Deep Learning']},\n",
        "    {'role': 'Machine Learning Engineer', 'skills': ['Python', 'TensorFlow', 'PyTorch', 'Scikit-Learn']},\n",
        "    {'role': 'Data Engineer', 'skills': ['Python', 'Apache Spark', 'Hadoop', 'SQL']},\n",
        "    {'role': 'Business Intelligence Analyst', 'skills': ['Python', 'SQL', 'Tableau', 'Power BI', 'Excel']},\n",
        "    {'role': 'Quantitative Analyst', 'skills': ['R', 'Python', 'MATLAB', 'Statistics']},\n",
        "    {'role': 'Operations Analyst', 'skills': ['Python', 'SQL', 'Data Visualization', 'Process Improvement']},\n",
        "    {'role': 'Database Administrator', 'skills': ['SQL', 'Oracle', 'MySQL', 'Database Management']},\n",
        "    {'role': 'AI Engineer', 'skills': ['Python', 'TensorFlow', 'PyTorch', 'Computer Vision']},\n",
        "    {'role': 'Statistician', 'skills': ['R', 'SAS', 'Python', 'Statistical Modeling']}\n",
        "]"
      ],
      "metadata": {
        "id": "ARKkxWyNnThW"
      },
      "execution_count": 355,
      "outputs": []
    },
    {
      "cell_type": "markdown",
      "source": [
        "\n",
        "*   loop thropugh the job role\n",
        "*   verify if all my_skills are inside each job role\n",
        "*   if true (or qualified), add to qualifed list of jobs\n",
        "\n",
        "\n",
        "\n"
      ],
      "metadata": {
        "id": "OSt_vabrq2vl"
      }
    },
    {
      "cell_type": "code",
      "source": [
        "qualified_roles = []\n",
        "\n",
        "for job in job_roles:\n",
        "  qualified = True\n",
        "  for skill in my_skills:\n",
        "    if skill not in job['skills']:\n",
        "      qualified = False\n",
        "      break\n",
        "  if qualified:\n",
        "    qualified_roles.append(job['role'])\n",
        "\n",
        "qualified_roles"
      ],
      "metadata": {
        "colab": {
          "base_uri": "https://localhost:8080/"
        },
        "id": "JGkUM8yEnTco",
        "outputId": "505196c9-a7f6-4746-a2bb-522306154384"
      },
      "execution_count": 356,
      "outputs": [
        {
          "output_type": "execute_result",
          "data": {
            "text/plain": [
              "['Data Analyst', 'Business Intelligence Analyst']"
            ]
          },
          "metadata": {},
          "execution_count": 356
        }
      ]
    },
    {
      "cell_type": "markdown",
      "source": [
        "# Function"
      ],
      "metadata": {
        "id": "QNugun1dtuPH"
      }
    },
    {
      "cell_type": "code",
      "source": [
        "skills_list = ['Python', 'SQL', 'Excel']"
      ],
      "metadata": {
        "id": "8HhXQYTxtzYJ"
      },
      "execution_count": 357,
      "outputs": []
    },
    {
      "cell_type": "code",
      "source": [
        "count = 0\n",
        "for skill in skills_list:\n",
        "  count += 1\n",
        "\n",
        "count"
      ],
      "metadata": {
        "colab": {
          "base_uri": "https://localhost:8080/"
        },
        "id": "T1uhIg1rtzVO",
        "outputId": "254d8439-b915-4391-8167-3825c66a3629"
      },
      "execution_count": 358,
      "outputs": [
        {
          "output_type": "execute_result",
          "data": {
            "text/plain": [
              "3"
            ]
          },
          "metadata": {},
          "execution_count": 358
        }
      ]
    },
    {
      "cell_type": "code",
      "source": [
        "data_salaries = [9500, 100000, 85000, 97000, 140000]"
      ],
      "metadata": {
        "id": "qitumgq2tzSO"
      },
      "execution_count": 359,
      "outputs": []
    },
    {
      "cell_type": "code",
      "source": [
        "min(data_salaries)"
      ],
      "metadata": {
        "colab": {
          "base_uri": "https://localhost:8080/"
        },
        "id": "iVl-DjNFtzPT",
        "outputId": "00b9b80a-69cc-4607-b62e-8c17e1c45ade"
      },
      "execution_count": 360,
      "outputs": [
        {
          "output_type": "execute_result",
          "data": {
            "text/plain": [
              "9500"
            ]
          },
          "metadata": {},
          "execution_count": 360
        }
      ]
    },
    {
      "cell_type": "code",
      "source": [
        "sorted(data_salaries)"
      ],
      "metadata": {
        "colab": {
          "base_uri": "https://localhost:8080/"
        },
        "id": "GD9sxhFbtzMz",
        "outputId": "c287bd16-ca6b-479e-9cbf-7eaf7373fb0e"
      },
      "execution_count": 361,
      "outputs": [
        {
          "output_type": "execute_result",
          "data": {
            "text/plain": [
              "[9500, 85000, 97000, 100000, 140000]"
            ]
          },
          "metadata": {},
          "execution_count": 361
        }
      ]
    },
    {
      "cell_type": "code",
      "source": [
        "base_salary = 100000\n",
        "bonus = 0.1\n",
        "\n",
        "def calculate_salary(base_salary, bounus = .50):\n",
        "  total_salary = base_salary * (1 + bonus)\n",
        "  return total_salary"
      ],
      "metadata": {
        "id": "ucpa0bqytzJ4"
      },
      "execution_count": 362,
      "outputs": []
    },
    {
      "cell_type": "code",
      "source": [
        "calculate_salary(200000)"
      ],
      "metadata": {
        "colab": {
          "base_uri": "https://localhost:8080/"
        },
        "id": "-hjOZnNDtzCE",
        "outputId": "b15318d8-a493-4280-b0a4-2c5f059a7d98"
      },
      "execution_count": 363,
      "outputs": [
        {
          "output_type": "execute_result",
          "data": {
            "text/plain": [
              "220000.00000000003"
            ]
          },
          "metadata": {},
          "execution_count": 363
        }
      ]
    },
    {
      "cell_type": "markdown",
      "source": [
        "# Lambda\n"
      ],
      "metadata": {
        "id": "koDM0O_ifOgO"
      }
    },
    {
      "cell_type": "code",
      "source": [
        "mul_two = lambda x: x * 2"
      ],
      "metadata": {
        "id": "VLBUO_9KfUKK"
      },
      "execution_count": 364,
      "outputs": []
    },
    {
      "cell_type": "code",
      "source": [
        "mul_two(4)"
      ],
      "metadata": {
        "id": "mbMM2BHafUEZ",
        "colab": {
          "base_uri": "https://localhost:8080/"
        },
        "outputId": "a5392586-dd45-4b3f-b4a9-dc916c53c221"
      },
      "execution_count": 365,
      "outputs": [
        {
          "output_type": "execute_result",
          "data": {
            "text/plain": [
              "8"
            ]
          },
          "metadata": {},
          "execution_count": 365
        }
      ]
    },
    {
      "cell_type": "code",
      "source": [
        "salary_list = [100000, 200000, 150000, 120000, 80000, 750000]\n",
        "\n",
        "#def calculate_salary(base_salary, bounus = .10):\n",
        " # total_salary = base_salary * (1 + bonus)\n",
        "  #return total_salary\n",
        "\n",
        "total_salary_list = [(lambda x: x * 1.1)(salary) for salary in salary_list]\n",
        "\n",
        "total_salary_list"
      ],
      "metadata": {
        "id": "PWSvnYHXfUBO",
        "colab": {
          "base_uri": "https://localhost:8080/"
        },
        "outputId": "31b45b20-f1c7-4037-c13e-5ace6b89caef"
      },
      "execution_count": 366,
      "outputs": [
        {
          "output_type": "execute_result",
          "data": {
            "text/plain": [
              "[110000.00000000001,\n",
              " 220000.00000000003,\n",
              " 165000.0,\n",
              " 132000.0,\n",
              " 88000.0,\n",
              " 825000.0000000001]"
            ]
          },
          "metadata": {},
          "execution_count": 366
        }
      ]
    },
    {
      "cell_type": "code",
      "source": [
        "job_data = [\n",
        "    {\"job_title\": \"Data Analyst Intern\",\"job_skills\": [\"Python\", \"SQL\", \"Data Visualization\", \"Excel\"],\n",
        "        \"remote\": True},\n",
        "    {\"job_title\": \"Junior Data Scientist\", \"job_skills\": [\"Python\", \"Machine Learning\", \"Pandas\", \"Scikit-learn\"],\n",
        "        \"remote\": False},\n",
        "    {\"job_title\": \"Data Engineer Intern\",\"job_skills\": [\"Python\", \"ETL\", \"AWS\", \"SQL\"],\"remote\": True},\n",
        "    {\"job_title\": \"Business Intelligence Analyst\", \"job_skills\": [\"Power BI\", \"SQL\", \"Statistics\", \"Data Cleaning\"],\n",
        "        \"remote\": False}\n",
        "]"
      ],
      "metadata": {
        "id": "bMIuYJ6LfT-I"
      },
      "execution_count": 367,
      "outputs": []
    },
    {
      "cell_type": "code",
      "source": [
        "list(filter(lambda job: job['remote'] and \"Python\" in job ['job_skills'], job_data))"
      ],
      "metadata": {
        "id": "MpceYT_Dty8t",
        "colab": {
          "base_uri": "https://localhost:8080/"
        },
        "outputId": "fff4cb08-99c8-46b2-9a7f-d2ce47a9b981"
      },
      "execution_count": 368,
      "outputs": [
        {
          "output_type": "execute_result",
          "data": {
            "text/plain": [
              "[{'job_title': 'Data Analyst Intern',\n",
              "  'job_skills': ['Python', 'SQL', 'Data Visualization', 'Excel'],\n",
              "  'remote': True},\n",
              " {'job_title': 'Data Engineer Intern',\n",
              "  'job_skills': ['Python', 'ETL', 'AWS', 'SQL'],\n",
              "  'remote': True}]"
            ]
          },
          "metadata": {},
          "execution_count": 368
        }
      ]
    },
    {
      "cell_type": "markdown",
      "source": [
        "# Modules"
      ],
      "metadata": {
        "id": "wIANeBvkZgOg"
      }
    },
    {
      "cell_type": "code",
      "source": [
        "'''import my_module\n",
        "\n",
        "my_module.skill_list'''"
      ],
      "metadata": {
        "colab": {
          "base_uri": "https://localhost:8080/",
          "height": 36
        },
        "id": "x9hDur0XZjX2",
        "outputId": "0fd6061c-c3fe-4108-bd52-e6a31953de8e"
      },
      "execution_count": 369,
      "outputs": [
        {
          "output_type": "execute_result",
          "data": {
            "text/plain": [
              "'import my_module\\n\\nmy_module.skill_list'"
            ],
            "application/vnd.google.colaboratory.intrinsic+json": {
              "type": "string"
            }
          },
          "metadata": {},
          "execution_count": 369
        }
      ]
    },
    {
      "cell_type": "code",
      "source": [
        "'''my_module.skill('python')'''"
      ],
      "metadata": {
        "colab": {
          "base_uri": "https://localhost:8080/",
          "height": 36
        },
        "id": "6kwFPob-ZjVN",
        "outputId": "fa13af2a-2f96-4866-e843-e5bdc30761e2"
      },
      "execution_count": 370,
      "outputs": [
        {
          "output_type": "execute_result",
          "data": {
            "text/plain": [
              "\"my_module.skill('python')\""
            ],
            "application/vnd.google.colaboratory.intrinsic+json": {
              "type": "string"
            }
          },
          "metadata": {},
          "execution_count": 370
        }
      ]
    },
    {
      "cell_type": "code",
      "source": [
        "'''from job_analyzer import *\n",
        "\n",
        "calculate_salary(120000)\n",
        "\n",
        "calculate_bonus(123000, 50000)'''"
      ],
      "metadata": {
        "colab": {
          "base_uri": "https://localhost:8080/",
          "height": 36
        },
        "id": "4pbJ19seZjSX",
        "outputId": "aa484a97-06fe-42d0-e7d3-7726eff26c46"
      },
      "execution_count": 371,
      "outputs": [
        {
          "output_type": "execute_result",
          "data": {
            "text/plain": [
              "'from job_analyzer import *\\n\\ncalculate_salary(120000)\\n\\ncalculate_bonus(123000, 50000)'"
            ],
            "application/vnd.google.colaboratory.intrinsic+json": {
              "type": "string"
            }
          },
          "metadata": {},
          "execution_count": 371
        }
      ]
    },
    {
      "cell_type": "code",
      "source": [
        "#salary_list = [12390, 57934, 45747, 673045]"
      ],
      "metadata": {
        "id": "o9AHOtYYZjO8"
      },
      "execution_count": 372,
      "outputs": []
    },
    {
      "cell_type": "code",
      "source": [
        "'''from statistics import mean, mode, median\n",
        "\n",
        "mean(salary_list)'''"
      ],
      "metadata": {
        "colab": {
          "base_uri": "https://localhost:8080/",
          "height": 36
        },
        "id": "NRAQMk_oZjLz",
        "outputId": "8877fae9-f327-4544-ee4d-11ec4f3cb3a3"
      },
      "execution_count": 373,
      "outputs": [
        {
          "output_type": "execute_result",
          "data": {
            "text/plain": [
              "'from statistics import mean, mode, median\\n\\nmean(salary_list)'"
            ],
            "application/vnd.google.colaboratory.intrinsic+json": {
              "type": "string"
            }
          },
          "metadata": {},
          "execution_count": 373
        }
      ]
    },
    {
      "cell_type": "code",
      "source": [
        "#median(salary_list)"
      ],
      "metadata": {
        "id": "cnLf6SMOZitX"
      },
      "execution_count": 374,
      "outputs": []
    },
    {
      "cell_type": "code",
      "source": [
        "#mode(salary_list)"
      ],
      "metadata": {
        "id": "bSsDmLAllaH6"
      },
      "execution_count": 375,
      "outputs": []
    },
    {
      "cell_type": "markdown",
      "source": [
        "# Exercise Cleaning Data"
      ],
      "metadata": {
        "id": "lSx7X9sxLF1V"
      }
    },
    {
      "cell_type": "code",
      "source": [
        "data_science_jobs = [\n",
        "    {'job_title': 'Data Scientist', 'job_skills': \"['Python', 'SQL', 'Machine Learning']\", 'job_date': '2023-05-12'},\n",
        "    {'job_title': 'Machine Learning Engineer', 'job_skills': \"['Python', 'TensorFlow', 'Deep Learning']\", 'job_date': '2023-05-15'},\n",
        "    {'job_title': 'Data Analyst', 'job_skills': \"['SQL', 'R', 'Tableau']\", 'job_date': '2023-05-10'},\n",
        "    {'job_title': 'Business Intelligence Developer', 'job_skills': \"['SQL', 'PowerBI', 'Data Warehousing']\", 'job_date': '2023-05-08'},\n",
        "    {'job_title': 'Data Engineer', 'job_skills': \"['Python', 'Spark', 'Hadoop']\", 'job_date': '2023-05-18'},\n",
        "    {'job_title': 'AI Specialist', 'job_skills': \"['Python', 'PyTorch', 'AI Ethics']\", 'job_date': '2023-05-20'}\n",
        "]"
      ],
      "metadata": {
        "id": "GdDEs9N9nUV9"
      },
      "execution_count": 376,
      "outputs": []
    },
    {
      "cell_type": "code",
      "source": [
        "from datetime import datetime"
      ],
      "metadata": {
        "id": "ENPh5kP-nUTG"
      },
      "execution_count": 377,
      "outputs": []
    },
    {
      "cell_type": "code",
      "source": [
        "datetime.now()"
      ],
      "metadata": {
        "id": "lIbMgcswnUNo",
        "colab": {
          "base_uri": "https://localhost:8080/"
        },
        "outputId": "307005e7-b8c7-40cd-8a98-62b852b280bf"
      },
      "execution_count": 378,
      "outputs": [
        {
          "output_type": "execute_result",
          "data": {
            "text/plain": [
              "datetime.datetime(2025, 4, 13, 13, 24, 57, 392927)"
            ]
          },
          "metadata": {},
          "execution_count": 378
        }
      ]
    },
    {
      "cell_type": "code",
      "source": [
        "test_date = data_science_jobs[0]['job_date']"
      ],
      "metadata": {
        "id": "VY2E2QGFnUK0"
      },
      "execution_count": 379,
      "outputs": []
    },
    {
      "cell_type": "code",
      "source": [
        "print(datetime.strptime(test_date, '%Y-%m-%d'))"
      ],
      "metadata": {
        "id": "VJOdkZKNnUIK",
        "colab": {
          "base_uri": "https://localhost:8080/"
        },
        "outputId": "91479644-27f1-4b8f-8e54-fc9e94bf39c0"
      },
      "execution_count": 380,
      "outputs": [
        {
          "output_type": "stream",
          "name": "stdout",
          "text": [
            "2023-05-12 00:00:00\n"
          ]
        }
      ]
    },
    {
      "cell_type": "code",
      "source": [
        "import ast\n",
        "\n",
        "for job in data_science_jobs:\n",
        "  job['job_date'] = datetime.strptime(job['job_date'], '%Y-%m-%d')\n",
        "  job['job_skills'] = ast.literal_eval(job['job_skills'])"
      ],
      "metadata": {
        "id": "I8byVHJwnUFU"
      },
      "execution_count": 381,
      "outputs": []
    },
    {
      "cell_type": "code",
      "source": [
        "data_science_jobs"
      ],
      "metadata": {
        "id": "k52eDTv6nUDB",
        "colab": {
          "base_uri": "https://localhost:8080/"
        },
        "outputId": "3e7228f7-1660-484d-afcd-6966898635d9"
      },
      "execution_count": 382,
      "outputs": [
        {
          "output_type": "execute_result",
          "data": {
            "text/plain": [
              "[{'job_title': 'Data Scientist',\n",
              "  'job_skills': ['Python', 'SQL', 'Machine Learning'],\n",
              "  'job_date': datetime.datetime(2023, 5, 12, 0, 0)},\n",
              " {'job_title': 'Machine Learning Engineer',\n",
              "  'job_skills': ['Python', 'TensorFlow', 'Deep Learning'],\n",
              "  'job_date': datetime.datetime(2023, 5, 15, 0, 0)},\n",
              " {'job_title': 'Data Analyst',\n",
              "  'job_skills': ['SQL', 'R', 'Tableau'],\n",
              "  'job_date': datetime.datetime(2023, 5, 10, 0, 0)},\n",
              " {'job_title': 'Business Intelligence Developer',\n",
              "  'job_skills': ['SQL', 'PowerBI', 'Data Warehousing'],\n",
              "  'job_date': datetime.datetime(2023, 5, 8, 0, 0)},\n",
              " {'job_title': 'Data Engineer',\n",
              "  'job_skills': ['Python', 'Spark', 'Hadoop'],\n",
              "  'job_date': datetime.datetime(2023, 5, 18, 0, 0)},\n",
              " {'job_title': 'AI Specialist',\n",
              "  'job_skills': ['Python', 'PyTorch', 'AI Ethics'],\n",
              "  'job_date': datetime.datetime(2023, 5, 20, 0, 0)}]"
            ]
          },
          "metadata": {},
          "execution_count": 382
        }
      ]
    },
    {
      "cell_type": "code",
      "source": [],
      "metadata": {
        "id": "RP_6XGFknT-C"
      },
      "execution_count": 382,
      "outputs": []
    },
    {
      "cell_type": "code",
      "source": [],
      "metadata": {
        "id": "TllGqoqKP0Xm"
      },
      "execution_count": 382,
      "outputs": []
    }
  ]
}